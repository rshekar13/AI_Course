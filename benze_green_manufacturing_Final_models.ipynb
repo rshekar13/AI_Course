{
  "cells": [
    {
      "cell_type": "markdown",
      "metadata": {
        "id": "XeIK0xuM-38Q"
      },
      "source": [
        "## Problem statement:\n",
        "1. European-based Mercedes-Benze is a premium automaker. Nearly 2000 patents are applied for annually by Benze, a pioneer in the premium automaker industry. customers can choose their car from a choice of customizing options and opinions.\n",
        "2. In order to ensure the reliability and safety of the vehicle and its components, Strict testing methods are used by Benze on a variety of models and custom models to ensure their performance. It is very difficult with manual methods to optimize the test and test time spend on test procedures  for each customization option.\n",
        "3. Using the various test feature combinations, we must determine the best test time and minimal carbon dioxide emission without compromising safety criteria."
      ]
    },
    {
      "cell_type": "code",
      "source": [
        "from google.colab import drive\n",
        "drive.mount('/content/drive')"
      ],
      "metadata": {
        "colab": {
          "base_uri": "https://localhost:8080/",
          "height": 0
        },
        "id": "gwfEev9nlSZ-",
        "outputId": "845e53aa-eb05-465a-d13a-2741e0b41e00"
      },
      "execution_count": 5,
      "outputs": [
        {
          "output_type": "stream",
          "name": "stdout",
          "text": [
            "Drive already mounted at /content/drive; to attempt to forcibly remount, call drive.mount(\"/content/drive\", force_remount=True).\n"
          ]
        }
      ]
    },
    {
      "cell_type": "markdown",
      "metadata": {
        "id": "hWbJL6kK-38U"
      },
      "source": [
        "## Metrics:\n",
        "R² error (coefficient of Determination) : 1 -RSS/TSS\n",
        "\n",
        "RSS = \tsum of squares of residuals\n",
        "TSS\t=\ttotal sum of squares\n",
        "\n",
        "When \n",
        "*   R² = 1 then the model is perfectly predicting\n",
        "*   R² = 0 to 1 , model is not predicting prefectly but better than simple average model\n",
        "*   R²  = 0 model is not predicting at all"
      ]
    },
    {
      "cell_type": "code",
      "execution_count": 6,
      "metadata": {
        "id": "SiWK8RwS-38W"
      },
      "outputs": [],
      "source": [
        "#import required modules\n",
        "import numpy as np\n",
        "import pandas as pd \n",
        "import matplotlib.pyplot as plt\n",
        "%matplotlib inline\n",
        "import seaborn as sns\n",
        "import random\n",
        "import warnings\n",
        "warnings.filterwarnings('ignore')\n",
        "\n",
        "from sklearn.model_selection import GridSearchCV\n",
        "from sklearn.model_selection import RandomizedSearchCV\n",
        "import time\n"
      ]
    },
    {
      "cell_type": "markdown",
      "metadata": {
        "id": "-5-o3y8C-38X"
      },
      "source": [
        "# loading data"
      ]
    },
    {
      "cell_type": "code",
      "execution_count": 7,
      "metadata": {
        "colab": {
          "base_uri": "https://localhost:8080/",
          "height": 299
        },
        "id": "b2iQd0sZ-38Y",
        "outputId": "c71e516d-bc56-4951-bbbd-2ea18a4889e4"
      },
      "outputs": [
        {
          "output_type": "execute_result",
          "data": {
            "text/plain": [
              "   ID       y  X0 X1  X2 X3 X4 X5 X6 X8  ...  X375  X376  X377  X378  X379  \\\n",
              "0   0  130.81   k  v  at  a  d  u  j  o  ...     0     0     1     0     0   \n",
              "1   6   88.53   k  t  av  e  d  y  l  o  ...     1     0     0     0     0   \n",
              "2   7   76.26  az  w   n  c  d  x  j  x  ...     0     0     0     0     0   \n",
              "3   9   80.62  az  t   n  f  d  x  l  e  ...     0     0     0     0     0   \n",
              "4  13   78.02  az  v   n  f  d  h  d  n  ...     0     0     0     0     0   \n",
              "\n",
              "   X380  X382  X383  X384  X385  \n",
              "0     0     0     0     0     0  \n",
              "1     0     0     0     0     0  \n",
              "2     0     1     0     0     0  \n",
              "3     0     0     0     0     0  \n",
              "4     0     0     0     0     0  \n",
              "\n",
              "[5 rows x 378 columns]"
            ],
            "text/html": [
              "\n",
              "  <div id=\"df-b5074aae-7198-4d04-8dbd-ac9382712600\">\n",
              "    <div class=\"colab-df-container\">\n",
              "      <div>\n",
              "<style scoped>\n",
              "    .dataframe tbody tr th:only-of-type {\n",
              "        vertical-align: middle;\n",
              "    }\n",
              "\n",
              "    .dataframe tbody tr th {\n",
              "        vertical-align: top;\n",
              "    }\n",
              "\n",
              "    .dataframe thead th {\n",
              "        text-align: right;\n",
              "    }\n",
              "</style>\n",
              "<table border=\"1\" class=\"dataframe\">\n",
              "  <thead>\n",
              "    <tr style=\"text-align: right;\">\n",
              "      <th></th>\n",
              "      <th>ID</th>\n",
              "      <th>y</th>\n",
              "      <th>X0</th>\n",
              "      <th>X1</th>\n",
              "      <th>X2</th>\n",
              "      <th>X3</th>\n",
              "      <th>X4</th>\n",
              "      <th>X5</th>\n",
              "      <th>X6</th>\n",
              "      <th>X8</th>\n",
              "      <th>...</th>\n",
              "      <th>X375</th>\n",
              "      <th>X376</th>\n",
              "      <th>X377</th>\n",
              "      <th>X378</th>\n",
              "      <th>X379</th>\n",
              "      <th>X380</th>\n",
              "      <th>X382</th>\n",
              "      <th>X383</th>\n",
              "      <th>X384</th>\n",
              "      <th>X385</th>\n",
              "    </tr>\n",
              "  </thead>\n",
              "  <tbody>\n",
              "    <tr>\n",
              "      <th>0</th>\n",
              "      <td>0</td>\n",
              "      <td>130.81</td>\n",
              "      <td>k</td>\n",
              "      <td>v</td>\n",
              "      <td>at</td>\n",
              "      <td>a</td>\n",
              "      <td>d</td>\n",
              "      <td>u</td>\n",
              "      <td>j</td>\n",
              "      <td>o</td>\n",
              "      <td>...</td>\n",
              "      <td>0</td>\n",
              "      <td>0</td>\n",
              "      <td>1</td>\n",
              "      <td>0</td>\n",
              "      <td>0</td>\n",
              "      <td>0</td>\n",
              "      <td>0</td>\n",
              "      <td>0</td>\n",
              "      <td>0</td>\n",
              "      <td>0</td>\n",
              "    </tr>\n",
              "    <tr>\n",
              "      <th>1</th>\n",
              "      <td>6</td>\n",
              "      <td>88.53</td>\n",
              "      <td>k</td>\n",
              "      <td>t</td>\n",
              "      <td>av</td>\n",
              "      <td>e</td>\n",
              "      <td>d</td>\n",
              "      <td>y</td>\n",
              "      <td>l</td>\n",
              "      <td>o</td>\n",
              "      <td>...</td>\n",
              "      <td>1</td>\n",
              "      <td>0</td>\n",
              "      <td>0</td>\n",
              "      <td>0</td>\n",
              "      <td>0</td>\n",
              "      <td>0</td>\n",
              "      <td>0</td>\n",
              "      <td>0</td>\n",
              "      <td>0</td>\n",
              "      <td>0</td>\n",
              "    </tr>\n",
              "    <tr>\n",
              "      <th>2</th>\n",
              "      <td>7</td>\n",
              "      <td>76.26</td>\n",
              "      <td>az</td>\n",
              "      <td>w</td>\n",
              "      <td>n</td>\n",
              "      <td>c</td>\n",
              "      <td>d</td>\n",
              "      <td>x</td>\n",
              "      <td>j</td>\n",
              "      <td>x</td>\n",
              "      <td>...</td>\n",
              "      <td>0</td>\n",
              "      <td>0</td>\n",
              "      <td>0</td>\n",
              "      <td>0</td>\n",
              "      <td>0</td>\n",
              "      <td>0</td>\n",
              "      <td>1</td>\n",
              "      <td>0</td>\n",
              "      <td>0</td>\n",
              "      <td>0</td>\n",
              "    </tr>\n",
              "    <tr>\n",
              "      <th>3</th>\n",
              "      <td>9</td>\n",
              "      <td>80.62</td>\n",
              "      <td>az</td>\n",
              "      <td>t</td>\n",
              "      <td>n</td>\n",
              "      <td>f</td>\n",
              "      <td>d</td>\n",
              "      <td>x</td>\n",
              "      <td>l</td>\n",
              "      <td>e</td>\n",
              "      <td>...</td>\n",
              "      <td>0</td>\n",
              "      <td>0</td>\n",
              "      <td>0</td>\n",
              "      <td>0</td>\n",
              "      <td>0</td>\n",
              "      <td>0</td>\n",
              "      <td>0</td>\n",
              "      <td>0</td>\n",
              "      <td>0</td>\n",
              "      <td>0</td>\n",
              "    </tr>\n",
              "    <tr>\n",
              "      <th>4</th>\n",
              "      <td>13</td>\n",
              "      <td>78.02</td>\n",
              "      <td>az</td>\n",
              "      <td>v</td>\n",
              "      <td>n</td>\n",
              "      <td>f</td>\n",
              "      <td>d</td>\n",
              "      <td>h</td>\n",
              "      <td>d</td>\n",
              "      <td>n</td>\n",
              "      <td>...</td>\n",
              "      <td>0</td>\n",
              "      <td>0</td>\n",
              "      <td>0</td>\n",
              "      <td>0</td>\n",
              "      <td>0</td>\n",
              "      <td>0</td>\n",
              "      <td>0</td>\n",
              "      <td>0</td>\n",
              "      <td>0</td>\n",
              "      <td>0</td>\n",
              "    </tr>\n",
              "  </tbody>\n",
              "</table>\n",
              "<p>5 rows × 378 columns</p>\n",
              "</div>\n",
              "      <button class=\"colab-df-convert\" onclick=\"convertToInteractive('df-b5074aae-7198-4d04-8dbd-ac9382712600')\"\n",
              "              title=\"Convert this dataframe to an interactive table.\"\n",
              "              style=\"display:none;\">\n",
              "        \n",
              "  <svg xmlns=\"http://www.w3.org/2000/svg\" height=\"24px\"viewBox=\"0 0 24 24\"\n",
              "       width=\"24px\">\n",
              "    <path d=\"M0 0h24v24H0V0z\" fill=\"none\"/>\n",
              "    <path d=\"M18.56 5.44l.94 2.06.94-2.06 2.06-.94-2.06-.94-.94-2.06-.94 2.06-2.06.94zm-11 1L8.5 8.5l.94-2.06 2.06-.94-2.06-.94L8.5 2.5l-.94 2.06-2.06.94zm10 10l.94 2.06.94-2.06 2.06-.94-2.06-.94-.94-2.06-.94 2.06-2.06.94z\"/><path d=\"M17.41 7.96l-1.37-1.37c-.4-.4-.92-.59-1.43-.59-.52 0-1.04.2-1.43.59L10.3 9.45l-7.72 7.72c-.78.78-.78 2.05 0 2.83L4 21.41c.39.39.9.59 1.41.59.51 0 1.02-.2 1.41-.59l7.78-7.78 2.81-2.81c.8-.78.8-2.07 0-2.86zM5.41 20L4 18.59l7.72-7.72 1.47 1.35L5.41 20z\"/>\n",
              "  </svg>\n",
              "      </button>\n",
              "      \n",
              "  <style>\n",
              "    .colab-df-container {\n",
              "      display:flex;\n",
              "      flex-wrap:wrap;\n",
              "      gap: 12px;\n",
              "    }\n",
              "\n",
              "    .colab-df-convert {\n",
              "      background-color: #E8F0FE;\n",
              "      border: none;\n",
              "      border-radius: 50%;\n",
              "      cursor: pointer;\n",
              "      display: none;\n",
              "      fill: #1967D2;\n",
              "      height: 32px;\n",
              "      padding: 0 0 0 0;\n",
              "      width: 32px;\n",
              "    }\n",
              "\n",
              "    .colab-df-convert:hover {\n",
              "      background-color: #E2EBFA;\n",
              "      box-shadow: 0px 1px 2px rgba(60, 64, 67, 0.3), 0px 1px 3px 1px rgba(60, 64, 67, 0.15);\n",
              "      fill: #174EA6;\n",
              "    }\n",
              "\n",
              "    [theme=dark] .colab-df-convert {\n",
              "      background-color: #3B4455;\n",
              "      fill: #D2E3FC;\n",
              "    }\n",
              "\n",
              "    [theme=dark] .colab-df-convert:hover {\n",
              "      background-color: #434B5C;\n",
              "      box-shadow: 0px 1px 3px 1px rgba(0, 0, 0, 0.15);\n",
              "      filter: drop-shadow(0px 1px 2px rgba(0, 0, 0, 0.3));\n",
              "      fill: #FFFFFF;\n",
              "    }\n",
              "  </style>\n",
              "\n",
              "      <script>\n",
              "        const buttonEl =\n",
              "          document.querySelector('#df-b5074aae-7198-4d04-8dbd-ac9382712600 button.colab-df-convert');\n",
              "        buttonEl.style.display =\n",
              "          google.colab.kernel.accessAllowed ? 'block' : 'none';\n",
              "\n",
              "        async function convertToInteractive(key) {\n",
              "          const element = document.querySelector('#df-b5074aae-7198-4d04-8dbd-ac9382712600');\n",
              "          const dataTable =\n",
              "            await google.colab.kernel.invokeFunction('convertToInteractive',\n",
              "                                                     [key], {});\n",
              "          if (!dataTable) return;\n",
              "\n",
              "          const docLinkHtml = 'Like what you see? Visit the ' +\n",
              "            '<a target=\"_blank\" href=https://colab.research.google.com/notebooks/data_table.ipynb>data table notebook</a>'\n",
              "            + ' to learn more about interactive tables.';\n",
              "          element.innerHTML = '';\n",
              "          dataTable['output_type'] = 'display_data';\n",
              "          await google.colab.output.renderOutput(dataTable, element);\n",
              "          const docLink = document.createElement('div');\n",
              "          docLink.innerHTML = docLinkHtml;\n",
              "          element.appendChild(docLink);\n",
              "        }\n",
              "      </script>\n",
              "    </div>\n",
              "  </div>\n",
              "  "
            ]
          },
          "metadata": {},
          "execution_count": 7
        }
      ],
      "source": [
        "data  = pd.read_csv(r'/content/drive/MyDrive/Colab Notebooks/train.csv')\n",
        "data.head()"
      ]
    },
    {
      "cell_type": "code",
      "execution_count": 8,
      "metadata": {
        "colab": {
          "base_uri": "https://localhost:8080/",
          "height": 0
        },
        "id": "PIcgQhlH-38Z",
        "outputId": "f1f6b867-4703-4d06-ceca-3e7fdfd1799f"
      },
      "outputs": [
        {
          "output_type": "execute_result",
          "data": {
            "text/plain": [
              "Index(['ID', 'y', 'X0', 'X1', 'X2', 'X3', 'X4', 'X5', 'X6', 'X8',\n",
              "       ...\n",
              "       'X375', 'X376', 'X377', 'X378', 'X379', 'X380', 'X382', 'X383', 'X384',\n",
              "       'X385'],\n",
              "      dtype='object', length=378)"
            ]
          },
          "metadata": {},
          "execution_count": 8
        }
      ],
      "source": [
        "data.columns"
      ]
    },
    {
      "cell_type": "code",
      "execution_count": 9,
      "metadata": {
        "colab": {
          "base_uri": "https://localhost:8080/",
          "height": 0
        },
        "id": "TAarymPX-38a",
        "outputId": "580bd0a7-8a88-49ea-cad7-a323b8149b33"
      },
      "outputs": [
        {
          "output_type": "execute_result",
          "data": {
            "text/plain": [
              "(4209, 378)"
            ]
          },
          "metadata": {},
          "execution_count": 9
        }
      ],
      "source": [
        "#shape of input data\n",
        "data.shape"
      ]
    },
    {
      "cell_type": "markdown",
      "metadata": {
        "id": "GlfdjTht-38a"
      },
      "source": [
        "#### we have 4209 data samples with 377 features"
      ]
    },
    {
      "cell_type": "code",
      "execution_count": 10,
      "metadata": {
        "colab": {
          "base_uri": "https://localhost:8080/",
          "height": 279
        },
        "id": "cjP1ChNO-38b",
        "outputId": "5e121537-c383-4052-f2f9-1155e6e9cb91"
      },
      "outputs": [
        {
          "output_type": "display_data",
          "data": {
            "text/plain": [
              "<Figure size 432x288 with 1 Axes>"
            ],
            "image/png": "[encoded data removed]"
          },
          "metadata": {
            "needs_background": "light"
          }
        }
      ],
      "source": [
        "#know the distribution output varible\n",
        "sns.distplot(data['y'])\n",
        "plt.show()"
      ]
    },
    {
      "cell_type": "markdown",
      "metadata": {
        "id": "zCpAIFjS-38d"
      },
      "source": [
        "### The data is more concentrate below 150, remain data we can consider as outliers"
      ]
    },
    {
      "cell_type": "code",
      "execution_count": 11,
      "metadata": {
        "colab": {
          "base_uri": "https://localhost:8080/",
          "height": 279
        },
        "id": "5yQNupxv-38d",
        "outputId": "9f77a54e-d33b-4a6c-953e-2ed3afc6199c"
      },
      "outputs": [
        {
          "output_type": "display_data",
          "data": {
            "text/plain": [
              "<Figure size 432x288 with 1 Axes>"
            ],
            "image/png": "[encoded data removed]"
          },
          "metadata": {
            "needs_background": "light"
          }
        }
      ],
      "source": [
        "#ploting boxplot for output variable\n",
        "sns.boxplot(data['y'])\n",
        "plt.show()"
      ]
    },
    {
      "cell_type": "code",
      "execution_count": 12,
      "metadata": {
        "colab": {
          "base_uri": "https://localhost:8080/",
          "height": 424
        },
        "id": "jYJmCmnk-38e",
        "outputId": "60347c84-7f51-475a-db50-bf708dc12449"
      },
      "outputs": [
        {
          "output_type": "execute_result",
          "data": {
            "text/plain": [
              "       count         mean          std    min      25%      50%      75%  \\\n",
              "ID    4209.0  4205.960798  2437.608688   0.00  2095.00  4220.00  6314.00   \n",
              "y     4209.0   100.669318    12.679381  72.11    90.82    99.15   109.01   \n",
              "X10   4209.0     0.013305     0.114590   0.00     0.00     0.00     0.00   \n",
              "X11   4209.0     0.000000     0.000000   0.00     0.00     0.00     0.00   \n",
              "X12   4209.0     0.075077     0.263547   0.00     0.00     0.00     0.00   \n",
              "...      ...          ...          ...    ...      ...      ...      ...   \n",
              "X380  4209.0     0.008078     0.089524   0.00     0.00     0.00     0.00   \n",
              "X382  4209.0     0.007603     0.086872   0.00     0.00     0.00     0.00   \n",
              "X383  4209.0     0.001663     0.040752   0.00     0.00     0.00     0.00   \n",
              "X384  4209.0     0.000475     0.021796   0.00     0.00     0.00     0.00   \n",
              "X385  4209.0     0.001426     0.037734   0.00     0.00     0.00     0.00   \n",
              "\n",
              "          max  \n",
              "ID    8417.00  \n",
              "y      265.32  \n",
              "X10      1.00  \n",
              "X11      0.00  \n",
              "X12      1.00  \n",
              "...       ...  \n",
              "X380     1.00  \n",
              "X382     1.00  \n",
              "X383     1.00  \n",
              "X384     1.00  \n",
              "X385     1.00  \n",
              "\n",
              "[370 rows x 8 columns]"
            ],
            "text/html": [
              "\n",
              "  <div id=\"df-04b510fa-c72e-4406-a9fa-e4473b5f29ef\">\n",
              "    <div class=\"colab-df-container\">\n",
              "      <div>\n",
              "<style scoped>\n",
              "    .dataframe tbody tr th:only-of-type {\n",
              "        vertical-align: middle;\n",
              "    }\n",
              "\n",
              "    .dataframe tbody tr th {\n",
              "        vertical-align: top;\n",
              "    }\n",
              "\n",
              "    .dataframe thead th {\n",
              "        text-align: right;\n",
              "    }\n",
              "</style>\n",
              "<table border=\"1\" class=\"dataframe\">\n",
              "  <thead>\n",
              "    <tr style=\"text-align: right;\">\n",
              "      <th></th>\n",
              "      <th>count</th>\n",
              "      <th>mean</th>\n",
              "      <th>std</th>\n",
              "      <th>min</th>\n",
              "      <th>25%</th>\n",
              "      <th>50%</th>\n",
              "      <th>75%</th>\n",
              "      <th>max</th>\n",
              "    </tr>\n",
              "  </thead>\n",
              "  <tbody>\n",
              "    <tr>\n",
              "      <th>ID</th>\n",
              "      <td>4209.0</td>\n",
              "      <td>4205.960798</td>\n",
              "      <td>2437.608688</td>\n",
              "      <td>0.00</td>\n",
              "      <td>2095.00</td>\n",
              "      <td>4220.00</td>\n",
              "      <td>6314.00</td>\n",
              "      <td>8417.00</td>\n",
              "    </tr>\n",
              "    <tr>\n",
              "      <th>y</th>\n",
              "      <td>4209.0</td>\n",
              "      <td>100.669318</td>\n",
              "      <td>12.679381</td>\n",
              "      <td>72.11</td>\n",
              "      <td>90.82</td>\n",
              "      <td>99.15</td>\n",
              "      <td>109.01</td>\n",
              "      <td>265.32</td>\n",
              "    </tr>\n",
              "    <tr>\n",
              "      <th>X10</th>\n",
              "      <td>4209.0</td>\n",
              "      <td>0.013305</td>\n",
              "      <td>0.114590</td>\n",
              "      <td>0.00</td>\n",
              "      <td>0.00</td>\n",
              "      <td>0.00</td>\n",
              "      <td>0.00</td>\n",
              "      <td>1.00</td>\n",
              "    </tr>\n",
              "    <tr>\n",
              "      <th>X11</th>\n",
              "      <td>4209.0</td>\n",
              "      <td>0.000000</td>\n",
              "      <td>0.000000</td>\n",
              "      <td>0.00</td>\n",
              "      <td>0.00</td>\n",
              "      <td>0.00</td>\n",
              "      <td>0.00</td>\n",
              "      <td>0.00</td>\n",
              "    </tr>\n",
              "    <tr>\n",
              "      <th>X12</th>\n",
              "      <td>4209.0</td>\n",
              "      <td>0.075077</td>\n",
              "      <td>0.263547</td>\n",
              "      <td>0.00</td>\n",
              "      <td>0.00</td>\n",
              "      <td>0.00</td>\n",
              "      <td>0.00</td>\n",
              "      <td>1.00</td>\n",
              "    </tr>\n",
              "    <tr>\n",
              "      <th>...</th>\n",
              "      <td>...</td>\n",
              "      <td>...</td>\n",
              "      <td>...</td>\n",
              "      <td>...</td>\n",
              "      <td>...</td>\n",
              "      <td>...</td>\n",
              "      <td>...</td>\n",
              "      <td>...</td>\n",
              "    </tr>\n",
              "    <tr>\n",
              "      <th>X380</th>\n",
              "      <td>4209.0</td>\n",
              "      <td>0.008078</td>\n",
              "      <td>0.089524</td>\n",
              "      <td>0.00</td>\n",
              "      <td>0.00</td>\n",
              "      <td>0.00</td>\n",
              "      <td>0.00</td>\n",
              "      <td>1.00</td>\n",
              "    </tr>\n",
              "    <tr>\n",
              "      <th>X382</th>\n",
              "      <td>4209.0</td>\n",
              "      <td>0.007603</td>\n",
              "      <td>0.086872</td>\n",
              "      <td>0.00</td>\n",
              "      <td>0.00</td>\n",
              "      <td>0.00</td>\n",
              "      <td>0.00</td>\n",
              "      <td>1.00</td>\n",
              "    </tr>\n",
              "    <tr>\n",
              "      <th>X383</th>\n",
              "      <td>4209.0</td>\n",
              "      <td>0.001663</td>\n",
              "      <td>0.040752</td>\n",
              "      <td>0.00</td>\n",
              "      <td>0.00</td>\n",
              "      <td>0.00</td>\n",
              "      <td>0.00</td>\n",
              "      <td>1.00</td>\n",
              "    </tr>\n",
              "    <tr>\n",
              "      <th>X384</th>\n",
              "      <td>4209.0</td>\n",
              "      <td>0.000475</td>\n",
              "      <td>0.021796</td>\n",
              "      <td>0.00</td>\n",
              "      <td>0.00</td>\n",
              "      <td>0.00</td>\n",
              "      <td>0.00</td>\n",
              "      <td>1.00</td>\n",
              "    </tr>\n",
              "    <tr>\n",
              "      <th>X385</th>\n",
              "      <td>4209.0</td>\n",
              "      <td>0.001426</td>\n",
              "      <td>0.037734</td>\n",
              "      <td>0.00</td>\n",
              "      <td>0.00</td>\n",
              "      <td>0.00</td>\n",
              "      <td>0.00</td>\n",
              "      <td>1.00</td>\n",
              "    </tr>\n",
              "  </tbody>\n",
              "</table>\n",
              "<p>370 rows × 8 columns</p>\n",
              "</div>\n",
              "      <button class=\"colab-df-convert\" onclick=\"convertToInteractive('df-04b510fa-c72e-4406-a9fa-e4473b5f29ef')\"\n",
              "              title=\"Convert this dataframe to an interactive table.\"\n",
              "              style=\"display:none;\">\n",
              "        \n",
              "  <svg xmlns=\"http://www.w3.org/2000/svg\" height=\"24px\"viewBox=\"0 0 24 24\"\n",
              "       width=\"24px\">\n",
              "    <path d=\"M0 0h24v24H0V0z\" fill=\"none\"/>\n",
              "    <path d=\"M18.56 5.44l.94 2.06.94-2.06 2.06-.94-2.06-.94-.94-2.06-.94 2.06-2.06.94zm-11 1L8.5 8.5l.94-2.06 2.06-.94-2.06-.94L8.5 2.5l-.94 2.06-2.06.94zm10 10l.94 2.06.94-2.06 2.06-.94-2.06-.94-.94-2.06-.94 2.06-2.06.94z\"/><path d=\"M17.41 7.96l-1.37-1.37c-.4-.4-.92-.59-1.43-.59-.52 0-1.04.2-1.43.59L10.3 9.45l-7.72 7.72c-.78.78-.78 2.05 0 2.83L4 21.41c.39.39.9.59 1.41.59.51 0 1.02-.2 1.41-.59l7.78-7.78 2.81-2.81c.8-.78.8-2.07 0-2.86zM5.41 20L4 18.59l7.72-7.72 1.47 1.35L5.41 20z\"/>\n",
              "  </svg>\n",
              "      </button>\n",
              "      \n",
              "  <style>\n",
              "    .colab-df-container {\n",
              "      display:flex;\n",
              "      flex-wrap:wrap;\n",
              "      gap: 12px;\n",
              "    }\n",
              "\n",
              "    .colab-df-convert {\n",
              "      background-color: #E8F0FE;\n",
              "      border: none;\n",
              "      border-radius: 50%;\n",
              "      cursor: pointer;\n",
              "      display: none;\n",
              "      fill: #1967D2;\n",
              "      height: 32px;\n",
              "      padding: 0 0 0 0;\n",
              "      width: 32px;\n",
              "    }\n",
              "\n",
              "    .colab-df-convert:hover {\n",
              "      background-color: #E2EBFA;\n",
              "      box-shadow: 0px 1px 2px rgba(60, 64, 67, 0.3), 0px 1px 3px 1px rgba(60, 64, 67, 0.15);\n",
              "      fill: #174EA6;\n",
              "    }\n",
              "\n",
              "    [theme=dark] .colab-df-convert {\n",
              "      background-color: #3B4455;\n",
              "      fill: #D2E3FC;\n",
              "    }\n",
              "\n",
              "    [theme=dark] .colab-df-convert:hover {\n",
              "      background-color: #434B5C;\n",
              "      box-shadow: 0px 1px 3px 1px rgba(0, 0, 0, 0.15);\n",
              "      filter: drop-shadow(0px 1px 2px rgba(0, 0, 0, 0.3));\n",
              "      fill: #FFFFFF;\n",
              "    }\n",
              "  </style>\n",
              "\n",
              "      <script>\n",
              "        const buttonEl =\n",
              "          document.querySelector('#df-04b510fa-c72e-4406-a9fa-e4473b5f29ef button.colab-df-convert');\n",
              "        buttonEl.style.display =\n",
              "          google.colab.kernel.accessAllowed ? 'block' : 'none';\n",
              "\n",
              "        async function convertToInteractive(key) {\n",
              "          const element = document.querySelector('#df-04b510fa-c72e-4406-a9fa-e4473b5f29ef');\n",
              "          const dataTable =\n",
              "            await google.colab.kernel.invokeFunction('convertToInteractive',\n",
              "                                                     [key], {});\n",
              "          if (!dataTable) return;\n",
              "\n",
              "          const docLinkHtml = 'Like what you see? Visit the ' +\n",
              "            '<a target=\"_blank\" href=https://colab.research.google.com/notebooks/data_table.ipynb>data table notebook</a>'\n",
              "            + ' to learn more about interactive tables.';\n",
              "          element.innerHTML = '';\n",
              "          dataTable['output_type'] = 'display_data';\n",
              "          await google.colab.output.renderOutput(dataTable, element);\n",
              "          const docLink = document.createElement('div');\n",
              "          docLink.innerHTML = docLinkHtml;\n",
              "          element.appendChild(docLink);\n",
              "        }\n",
              "      </script>\n",
              "    </div>\n",
              "  </div>\n",
              "  "
            ]
          },
          "metadata": {},
          "execution_count": 12
        }
      ],
      "source": [
        "data.describe().T"
      ]
    },
    {
      "cell_type": "code",
      "execution_count": 12,
      "metadata": {
        "id": "ZcyOJ9I7-38e"
      },
      "outputs": [],
      "source": []
    },
    {
      "cell_type": "code",
      "execution_count": 13,
      "metadata": {
        "colab": {
          "base_uri": "https://localhost:8080/",
          "height": 0
        },
        "id": "vHm5qxSB-38e",
        "outputId": "4b7d3765-6736-48d5-c346-0ecf59fe71d6"
      },
      "outputs": [
        {
          "output_type": "stream",
          "name": "stdout",
          "text": [
            "X11 single class\n",
            "X93 single class\n",
            "X107 single class\n",
            "X233 single class\n",
            "X235 single class\n",
            "X268 single class\n",
            "X289 single class\n",
            "X290 single class\n",
            "X293 single class\n",
            "X297 single class\n",
            "X330 single class\n",
            "X347 single class\n"
          ]
        }
      ],
      "source": [
        "# check how many features are multiclass\n",
        "mutlicalss_features = []\n",
        "binary_features =[]\n",
        "for col in data.drop(['y'],axis=1).columns:\n",
        "    len = data[col].unique().shape[0]\n",
        "    if len == 1:\n",
        "        print(col,\"single class\")\n",
        "    elif len == 2:\n",
        "        binary_features.append(col)\n",
        "        #print(col,\"binary class\")\n",
        "    elif len > 2:\n",
        "        mutlicalss_features.append(col)\n"
      ]
    },
    {
      "cell_type": "code",
      "execution_count": 14,
      "metadata": {
        "colab": {
          "base_uri": "https://localhost:8080/",
          "height": 0
        },
        "id": "MxlHbpCZ-38f",
        "outputId": "b233dece-e79e-493a-d035-790c08e52ad0"
      },
      "outputs": [
        {
          "output_type": "stream",
          "name": "stdout",
          "text": [
            "Number of multi category features are : 9\n"
          ]
        }
      ],
      "source": [
        "print(\"Number of multi category features are :\",mutlicalss_features.__len__())    \n"
      ]
    },
    {
      "cell_type": "code",
      "execution_count": 15,
      "metadata": {
        "colab": {
          "base_uri": "https://localhost:8080/",
          "height": 0
        },
        "id": "Z69zfRGt-38f",
        "outputId": "b492ead3-8e28-4b33-f546-0558563eaf47"
      },
      "outputs": [
        {
          "output_type": "stream",
          "name": "stdout",
          "text": [
            "Total number of single value features in data set is 12\n",
            "Features having single values:  ['X11', 'X93', 'X107', 'X233', 'X235', 'X268', 'X289', 'X290', 'X293', 'X297', 'X330', 'X347']\n"
          ]
        }
      ],
      "source": [
        "#checking for feautures having single value and droping that features\n",
        "single_val_features = [col for col in data.columns if data[col].nunique() == 1]\n",
        "print(\"Total number of single value features in data set is {}\".format(single_val_features.__len__()))\n",
        "print(\"Features having single values: \",single_val_features)\n"
      ]
    },
    {
      "cell_type": "code",
      "execution_count": 16,
      "metadata": {
        "colab": {
          "base_uri": "https://localhost:8080/",
          "height": 0
        },
        "id": "S6fj8ofd-38g",
        "outputId": "152c0fb4-57ec-4eab-8b15-dd7a7e3cafd9"
      },
      "outputs": [
        {
          "output_type": "execute_result",
          "data": {
            "text/plain": [
              "(4209, 366)"
            ]
          },
          "metadata": {},
          "execution_count": 16
        }
      ],
      "source": [
        "# shape of dataset after droping the single value features\n",
        "data.drop(single_val_features,axis =1,inplace=True)\n",
        "data.shape"
      ]
    },
    {
      "cell_type": "code",
      "execution_count": 17,
      "metadata": {
        "colab": {
          "base_uri": "https://localhost:8080/",
          "height": 0
        },
        "id": "LfpyheiY-38i",
        "outputId": "36d8a51d-0e16-4b4a-c8a1-5d9fb6b6712a"
      },
      "outputs": [
        {
          "output_type": "stream",
          "name": "stdout",
          "text": [
            "['X0', 'X1', 'X2', 'X3', 'X4', 'X5', 'X6', 'X8']\n"
          ]
        }
      ],
      "source": [
        "# checking the distribution of muticlass features\n",
        "mutlicalss_features.remove('ID')\n",
        "\n",
        "print(mutlicalss_features)\n"
      ]
    },
    {
      "cell_type": "code",
      "execution_count": 18,
      "metadata": {
        "colab": {
          "base_uri": "https://localhost:8080/",
          "height": 2500
        },
        "id": "XauzYkeU-38i",
        "outputId": "eeb314a7-b024-47a6-fbec-15a6773d3fa2"
      },
      "outputs": [
        {
          "output_type": "display_data",
          "data": {
            "text/plain": [
              "<Figure size 1080x432 with 1 Axes>"
            ],
            "image/png": "[encoded data removed]"
          },
          "metadata": {
            "needs_background": "light"
          }
        },
        {
          "output_type": "display_data",
          "data": {
            "text/plain": [
              "<Figure size 1080x432 with 1 Axes>"
            ],
            "image/png": "[encoded data removed]"
          },
          "metadata": {
            "needs_background": "light"
          }
        },
        {
          "output_type": "display_data",
          "data": {
            "text/plain": [
              "<Figure size 1080x432 with 1 Axes>"
            ],
            "image/png": "[encoded data removed]"
          },
          "metadata": {
            "needs_background": "light"
          }
        },
        {
          "output_type": "display_data",
          "data": {
            "text/plain": [
              "<Figure size 1080x432 with 1 Axes>"
            ],
            "image/png": "[encoded data removed]"
          },
          "metadata": {
            "needs_background": "light"
          }
        },
        {
          "output_type": "display_data",
          "data": {
            "text/plain": [
              "<Figure size 1080x432 with 1 Axes>"
            ],
            "image/png": "[encoded data removed]"
          },
          "metadata": {
            "needs_background": "light"
          }
        },
        {
          "output_type": "display_data",
          "data": {
            "text/plain": [
              "<Figure size 1080x432 with 1 Axes>"
            ],
            "image/png": "[encoded data removed]"
          },
          "metadata": {
            "needs_background": "light"
          }
        },
        {
          "output_type": "display_data",
          "data": {
            "text/plain": [
              "<Figure size 1080x432 with 1 Axes>"
            ],
            "image/png": "[encoded data removed]"
          },
          "metadata": {
            "needs_background": "light"
          }
        },
        {
          "output_type": "display_data",
          "data": {
            "text/plain": [
              "<Figure size 1080x432 with 1 Axes>"
            ],
            "image/png": "[encoded data removed]"
          },
          "metadata": {
            "needs_background": "light"
          }
        }
      ],
      "source": [
        "for clas in mutlicalss_features:\n",
        "    plt.figure(figsize = (15,6))\n",
        "    sns.histplot(x= clas,data = data,color = \"dodgerblue\")\n",
        "    plt.show()"
      ]
    },
    {
      "cell_type": "markdown",
      "metadata": {
        "id": "4aSScQFP-38j"
      },
      "source": [
        "# observations:\n",
        "### 1. the feature x4 amlost look like single variable feature\n",
        "###  2. The features X3, X5 and X8 having almost having unifrom distributions"
      ]
    },
    {
      "cell_type": "code",
      "execution_count": 19,
      "metadata": {
        "id": "B7-G1VMz-38j"
      },
      "outputs": [],
      "source": [
        "#for feature X4 is almost like single varible feature we can drop it\n",
        "data.drop(['X4'],axis=1,inplace= True)"
      ]
    },
    {
      "cell_type": "code",
      "execution_count": 20,
      "metadata": {
        "colab": {
          "base_uri": "https://localhost:8080/",
          "height": 3377
        },
        "id": "A4z-q2tP-38j",
        "outputId": "a8f72895-5bd9-42b3-828e-79d1738c4b82"
      },
      "outputs": [
        {
          "output_type": "display_data",
          "data": {
            "text/plain": [
              "<Figure size 720x576 with 1 Axes>"
            ],
            "image/png": "[encoded data removed]"
          },
          "metadata": {
            "needs_background": "light"
          }
        },
        {
          "output_type": "display_data",
          "data": {
            "text/plain": [
              "<Figure size 720x576 with 1 Axes>"
            ],
            "image/png": "[encoded data removed]"
          },
          "metadata": {
            "needs_background": "light"
          }
        },
        {
          "output_type": "display_data",
          "data": {
            "text/plain": [
              "<Figure size 720x576 with 1 Axes>"
            ],
            "image/png": "[encoded data removed]"
          },
          "metadata": {
            "needs_background": "light"
          }
        },
        {
          "output_type": "display_data",
          "data": {
            "text/plain": [
              "<Figure size 720x576 with 1 Axes>"
            ],
            "image/png": "[encoded data removed]"
          },
          "metadata": {
            "needs_background": "light"
          }
        },
        {
          "output_type": "display_data",
          "data": {
            "text/plain": [
              "<Figure size 720x576 with 1 Axes>"
            ],
            "image/png": "[encoded data removed]"
          },
          "metadata": {
            "needs_background": "light"
          }
        },
        {
          "output_type": "display_data",
          "data": {
            "text/plain": [
              "<Figure size 720x576 with 1 Axes>"
            ],
            "image/png": "[encoded data removed]"
          },
          "metadata": {
            "needs_background": "light"
          }
        },
        {
          "output_type": "display_data",
          "data": {
            "text/plain": [
              "<Figure size 720x576 with 1 Axes>"
            ],
            "image/png": "[encoded data removed]"
          },
          "metadata": {
            "needs_background": "light"
          }
        }
      ],
      "source": [
        "#checking the covariance between the multi category features and output variable\n",
        "for col in ['X0', 'X1', 'X2', 'X3', 'X5', 'X6', 'X8']:\n",
        "    plt.figure(figsize=(10,8))\n",
        "    sns.boxplot(x= col,y = 'y',data =data)\n",
        "    plt.show()\n",
        "\n",
        " "
      ]
    },
    {
      "cell_type": "markdown",
      "metadata": {
        "id": "FsoSYP43-38j"
      },
      "source": [
        "# observations:\n",
        "#### 1. some categories in 'X0' feature can be eaily classified\n",
        "#### 2. In other features , categories are overlapped with each other"
      ]
    },
    {
      "cell_type": "code",
      "execution_count": 21,
      "metadata": {
        "colab": {
          "base_uri": "https://localhost:8080/",
          "height": 1057
        },
        "id": "RnshdpYb-38j",
        "outputId": "91621e08-c9c0-40d6-ce3a-2761f4a4251d"
      },
      "outputs": [
        {
          "output_type": "display_data",
          "data": {
            "text/plain": [
              "<Figure size 360x216 with 1 Axes>"
            ],
            "image/png": "[encoded data removed]"
          },
          "metadata": {
            "needs_background": "light"
          }
        },
        {
          "output_type": "display_data",
          "data": {
            "text/plain": [
              "<Figure size 360x216 with 1 Axes>"
            ],
            "image/png": "[encoded data removed]"
          },
          "metadata": {
            "needs_background": "light"
          }
        },
        {
          "output_type": "display_data",
          "data": {
            "text/plain": [
              "<Figure size 360x216 with 1 Axes>"
            ],
            "image/png": "[encoded data removed]"
          },
          "metadata": {
            "needs_background": "light"
          }
        },
        {
          "output_type": "display_data",
          "data": {
            "text/plain": [
              "<Figure size 360x216 with 1 Axes>"
            ],
            "image/png": "[encoded data removed]"
          },
          "metadata": {
            "needs_background": "light"
          }
        },
        {
          "output_type": "display_data",
          "data": {
            "text/plain": [
              "<Figure size 360x216 with 1 Axes>"
            ],
            "image/png": "[encoded data removed]"
          },
          "metadata": {
            "needs_background": "light"
          }
        }
      ],
      "source": [
        "# Since we have more binary features we cannot anlysis all features \n",
        "# randomly checking the counts of binary classes in some features\n",
        "\n",
        "for col in random.choices(binary_features, k=5):\n",
        "    plt.figure(figsize=(5,3))\n",
        "    sns.histplot(x= col,data = data,color = \"dodgerblue\")\n",
        "    plt.show()"
      ]
    },
    {
      "cell_type": "markdown",
      "metadata": {
        "id": "ZOeH9fi4-38k"
      },
      "source": [
        "# observations:\n",
        "#### Most of the features has unbalanced distributions, by analysing in more detail some features can be droped for dimensional reduction."
      ]
    },
    {
      "cell_type": "code",
      "execution_count": 22,
      "metadata": {
        "colab": {
          "base_uri": "https://localhost:8080/",
          "height": 4142
        },
        "id": "TN_j6qhm-38k",
        "outputId": "2e4427b2-044b-43e7-e42c-f39f5a2af333"
      },
      "outputs": [
        {
          "output_type": "execute_result",
          "data": {
            "text/plain": [
              "<matplotlib.axes._subplots.AxesSubplot at 0x7f14dc115790>"
            ]
          },
          "metadata": {},
          "execution_count": 22
        },
        {
          "output_type": "display_data",
          "data": {
            "text/plain": [
              "<Figure size 360x5400 with 1 Axes>"
            ],
            "image/png": "[encoded data removed]"
          },
          "metadata": {
            "needs_background": "light"
          }
        }
      ],
      "source": [
        "df2 = data.loc[:,binary_features] \n",
        "a = []\n",
        "for col in df2.columns:\n",
        "    counts  = df2[col].value_counts()\n",
        "    #print(counts)\n",
        "    a.append([col,counts[0],counts[1]])\n",
        "    \n",
        "df3 = pd.DataFrame(np.array(a),columns=['fea', '0', '1'])\n",
        "df3.set_index('fea',inplace=True)\n",
        "df3 =df3.astype(int)\n",
        "\n",
        "df3.plot(kind='barh', stacked=True, color=['red', 'skyblue'],figsize =(5,75))\n"
      ]
    },
    {
      "cell_type": "markdown",
      "metadata": {
        "id": "VnG_0W90-38k"
      },
      "source": [
        "#### By seeing the distributions of binary features, some features having very high distribution of one value. Therefore the feaures having one value very high disrubution is droped form the dataset to reduce the dimenionality\n"
      ]
    },
    {
      "cell_type": "code",
      "execution_count": 23,
      "metadata": {
        "id": "z2jL4a7h-38l",
        "colab": {
          "base_uri": "https://localhost:8080/",
          "height": 0
        },
        "outputId": "95b3c75a-7509-4f7e-b934-360fd1f23e93"
      },
      "outputs": [
        {
          "output_type": "stream",
          "name": "stdout",
          "text": [
            "Shape of final dataset is  (4209, 230)\n"
          ]
        }
      ],
      "source": [
        "# droping the features from dataset\n",
        "single_val_feat_from_bin = []\n",
        "for feat in binary_features:\n",
        "    count = data[feat].value_counts()\n",
        "    zeros = np.round(count[0]*100/(count[0]+count[1]),2)\n",
        "    ones = np.round(count[1]*100/(count[0]+count[1]),2)\n",
        "    if ones <= 1.0 or zeros <=1.0 :\n",
        "        single_val_feat_from_bin.append(feat)\n",
        "        \n",
        "data = data.drop(single_val_feat_from_bin,axis =1)\n",
        "\n",
        "print(\"Shape of final dataset is \",data.shape)"
      ]
    },
    {
      "cell_type": "code",
      "execution_count": 23,
      "metadata": {
        "id": "F0T619FE-38l"
      },
      "outputs": [],
      "source": []
    },
    {
      "cell_type": "markdown",
      "metadata": {
        "id": "MGboJaJk-38l"
      },
      "source": [
        "# Data preprocessing"
      ]
    },
    {
      "cell_type": "code",
      "execution_count": 23,
      "metadata": {
        "id": "c5l4kXOe-38l"
      },
      "outputs": [],
      "source": []
    },
    {
      "cell_type": "code",
      "execution_count": 24,
      "metadata": {
        "colab": {
          "base_uri": "https://localhost:8080/",
          "height": 0
        },
        "id": "opvboyYx-38m",
        "outputId": "18244fdc-bc26-4040-89eb-97784228f54e"
      },
      "outputs": [
        {
          "output_type": "stream",
          "name": "stdout",
          "text": [
            "train data size (3367, 228)\n",
            "cross validation data size (842, 228)\n"
          ]
        }
      ],
      "source": [
        "# before preprocessing the data , split data into train and cross validation\n",
        "from sklearn.model_selection import train_test_split\n",
        "X= data.drop(['y','ID'],axis =1)\n",
        "Y = data['y']\n",
        "\n",
        "#spliting data\n",
        "X_train, X_cv,y_train,y_cv = train_test_split(X,Y,test_size =0.2,random_state =42)\n",
        "\n",
        "print(\"train data size\",X_train.shape)\n",
        "print(\"cross validation data size\",X_cv.shape)"
      ]
    },
    {
      "cell_type": "markdown",
      "metadata": {
        "id": "fo6PdPQo-38m"
      },
      "source": [
        "#### Encoding the categorical features"
      ]
    },
    {
      "cell_type": "code",
      "execution_count": 25,
      "metadata": {
        "id": "uDJRhrsL-38n"
      },
      "outputs": [],
      "source": [
        "# checking the number of categorival features\n",
        "\n",
        "cat_list = data.drop(['y'],axis=1).select_dtypes(['object']).columns"
      ]
    },
    {
      "cell_type": "code",
      "execution_count": 26,
      "metadata": {
        "colab": {
          "base_uri": "https://localhost:8080/",
          "height": 0
        },
        "id": "9McwzLpI-38n",
        "outputId": "dd53a94a-032c-4cc2-f470-9f40b17deb97"
      },
      "outputs": [
        {
          "output_type": "stream",
          "name": "stdout",
          "text": [
            "Number if categorical features are : 7\n"
          ]
        }
      ],
      "source": [
        "print(\"Number if categorical features are :\",cat_list.shape[0])"
      ]
    },
    {
      "cell_type": "code",
      "execution_count": 26,
      "metadata": {
        "id": "neqqP9jJ-38o"
      },
      "outputs": [],
      "source": []
    },
    {
      "cell_type": "code",
      "execution_count": 27,
      "metadata": {
        "id": "qK5j0keI-38o"
      },
      "outputs": [],
      "source": [
        "# Encoding this features by appling onehot encoding\n",
        "\n",
        "from sklearn.preprocessing import OneHotEncoder\n",
        "\n",
        "encode = OneHotEncoder(sparse = False,handle_unknown = \"ignore\")\n",
        "encode.fit(X_train[cat_list])\n",
        "x_train_cat_encd = encode.transform(X_train[cat_list])\n",
        "x_cv_cat_encd = encode.transform(X_cv[cat_list])\n"
      ]
    },
    {
      "cell_type": "code",
      "execution_count": 28,
      "metadata": {
        "id": "QSbScRl5-38o"
      },
      "outputs": [],
      "source": [
        "x_train_cat_encd  =pd.DataFrame(x_train_cat_encd,columns=encode.get_feature_names()) \n",
        "x_train_cat_encd.set_index(X_train.index,inplace=True)\n",
        "x_train_cat_encd.head()\n",
        "\n",
        "x_cv_cat_encd  =pd.DataFrame(x_cv_cat_encd,columns=encode.get_feature_names()) \n",
        "x_cv_cat_encd.set_index(X_cv.index,inplace=True)"
      ]
    },
    {
      "cell_type": "code",
      "execution_count": 28,
      "metadata": {
        "id": "OyDNOzUX-38o"
      },
      "outputs": [],
      "source": []
    },
    {
      "cell_type": "code",
      "execution_count": 29,
      "metadata": {
        "id": "Kfta5Mcx-38p"
      },
      "outputs": [],
      "source": [
        "# select the top 50 features using select best k from all encoded features\n",
        "from sklearn.feature_selection import SelectKBest,f_regression\n",
        "kbest = SelectKBest(score_func=f_regression,k = 50)\n",
        "kbest.fit(x_train_cat_encd,y_train)\n",
        "\n",
        "X_train_kbest = kbest.transform(x_train_cat_encd)"
      ]
    },
    {
      "cell_type": "code",
      "execution_count": 30,
      "metadata": {
        "scrolled": true,
        "id": "hiA0uws2-38p"
      },
      "outputs": [],
      "source": [
        "# get the indices of top 50 features\n",
        "kbest.get_support(indices= True)\n",
        "\n",
        "#datafram of top 5o encoded feaures\n",
        "#x_train_cat_encd.columns[kbest.get_support(indices= True)]\n",
        "x_train_top_50_df  = x_train_cat_encd.iloc[:,kbest.get_support(indices= True)]\n",
        "x_train_top_50_df.head()\n",
        "\n",
        "x_cv_top_50_df  = x_cv_cat_encd.iloc[:,kbest.get_support(indices= True)]\n"
      ]
    },
    {
      "cell_type": "code",
      "execution_count": 31,
      "metadata": {
        "id": "ZB0fOO0g-38q"
      },
      "outputs": [],
      "source": [
        "X_train.drop(cat_list,axis=1,inplace = True)\n",
        "X_train_fin = pd.concat([X_train,x_train_top_50_df],axis=1)\n",
        "X_train_fin.head()\n",
        "\n",
        "X_cv.drop(cat_list,axis=1,inplace = True)\n",
        "X_cv_fin = pd.concat([X_cv,x_cv_top_50_df],axis=1)\n"
      ]
    },
    {
      "cell_type": "code",
      "execution_count": 31,
      "metadata": {
        "id": "cUSm_vbb-38q"
      },
      "outputs": [],
      "source": []
    },
    {
      "cell_type": "markdown",
      "metadata": {
        "id": "HWZoD-K7-38q"
      },
      "source": [
        "# Machine learning models"
      ]
    },
    {
      "cell_type": "markdown",
      "metadata": {
        "id": "JTeAyoS0-38r"
      },
      "source": [
        "#### creating a base model from linear regression for refrence"
      ]
    },
    {
      "cell_type": "code",
      "execution_count": 32,
      "metadata": {
        "colab": {
          "base_uri": "https://localhost:8080/",
          "height": 0
        },
        "id": "_M-xZnhc-38r",
        "outputId": "156a0992-b439-4484-8b70-520dc054cba2"
      },
      "outputs": [
        {
          "output_type": "stream",
          "name": "stdout",
          "text": [
            "Train r2 score 0.328\n",
            "Train mean square error 65\n",
            "===================================================\n",
            "cross validation r2 score -0.001\n",
            "cross validation mean square error 6.798655774927834e+23\n"
          ]
        }
      ],
      "source": [
        "from sklearn.linear_model import LinearRegression\n",
        "from sklearn.metrics import r2_score\n",
        "from sklearn.metrics import mean_squared_error\n",
        "\n",
        "ref_model = LinearRegression()\n",
        "ref_model.fit(X_train_fin,y_train)\n",
        "y_pred_train = ref_model.predict(X_train_fin)\n",
        "\n",
        "print(\"Train r2 score\",round(r2_score(y_pred_train,y_train),3))\n",
        "print(\"Train mean square error\",round(mean_squared_error(y_pred_train,y_train),))\n",
        "\n",
        "\n",
        "#predict using cross validation data\n",
        "y_pred_cv = ref_model.predict(X_cv_fin)\n",
        "print(\"===================================================\")\n",
        "print(\"cross validation r2 score\",round(r2_score(y_pred_cv,y_cv),3))\n",
        "print(\"cross validation mean square error\",round(mean_squared_error(y_pred_cv,y_cv),3))"
      ]
    },
    {
      "cell_type": "markdown",
      "metadata": {
        "id": "3oVjDfOj-38r"
      },
      "source": [
        "## Model-1(SGD regression with hyperparamter tuning)"
      ]
    },
    {
      "cell_type": "code",
      "execution_count": 33,
      "metadata": {
        "id": "ytJLE5y6-38r",
        "colab": {
          "base_uri": "https://localhost:8080/",
          "height": 0
        },
        "outputId": "42f4c8d3-e40e-4883-8b5d-ecee436c8537"
      },
      "outputs": [
        {
          "output_type": "execute_result",
          "data": {
            "text/plain": [
              "GridSearchCV(cv=5, estimator=SGDRegressor(random_state=42), n_jobs=-1,\n",
              "             param_grid={'alpha': [0.0001, 0.001, 0.01, 0.1, 1, 10, 100, 1000],\n",
              "                         'penalty': ['l1', 'l2']},\n",
              "             return_train_score=True, scoring='r2')"
            ]
          },
          "metadata": {},
          "execution_count": 33
        }
      ],
      "source": [
        "from sklearn.linear_model import SGDRegressor\n",
        "\n",
        "alpha = [10**i for i in range(-4,4)]\n",
        "\n",
        "param = {'alpha':alpha,'penalty':['l1','l2'] }\n",
        "lr_reg  = SGDRegressor(random_state=42)\n",
        "lr_gsv =GridSearchCV(lr_reg,param,scoring= 'r2',cv =5, n_jobs= -1,return_train_score=True)\n",
        "\n",
        "lr_gsv.fit(X_train_fin,y_train)\n"
      ]
    },
    {
      "cell_type": "code",
      "execution_count": 34,
      "metadata": {
        "id": "yadxunps-38s",
        "colab": {
          "base_uri": "https://localhost:8080/",
          "height": 295
        },
        "outputId": "c0f6290b-c0f5-4295-96db-2c73dda8157e"
      },
      "outputs": [
        {
          "output_type": "display_data",
          "data": {
            "text/plain": [
              "<Figure size 432x288 with 1 Axes>"
            ],
            "image/png": "[encoded data removed]"
          },
          "metadata": {
            "needs_background": "light"
          }
        }
      ],
      "source": [
        "# ploting the loss with l1 regularization\n",
        "train_score= lr_gsv.cv_results_['mean_train_score'][::2]\n",
        "CV_score = lr_gsv.cv_results_['mean_test_score'][::2]\n",
        "\n",
        "plt.plot(range(0,8),train_score,label = 'train_loss')\n",
        "plt.plot(range(0,8),CV_score,label = 'cv_loss')\n",
        "plt.legend()\n",
        "plt.xlabel(\"alpha\")\n",
        "plt.xticks(range(0,8),alpha)\n",
        "plt.title(\"loss with L1 penalty \")\n",
        "plt.show()"
      ]
    },
    {
      "cell_type": "code",
      "execution_count": 35,
      "metadata": {
        "id": "6-3Z_Kwl-38s",
        "colab": {
          "base_uri": "https://localhost:8080/",
          "height": 295
        },
        "outputId": "bff1f6bb-ffc5-462b-b82b-eac04aea8333"
      },
      "outputs": [
        {
          "output_type": "display_data",
          "data": {
            "text/plain": [
              "<Figure size 432x288 with 1 Axes>"
            ],
            "image/png": "[encoded data removed]"
          },
          "metadata": {
            "needs_background": "light"
          }
        }
      ],
      "source": [
        "# ploting the loss with l2 regularization\n",
        "train_score= lr_gsv.cv_results_['mean_train_score'][1:16:2]\n",
        "CV_score = lr_gsv.cv_results_['mean_test_score'][1:16:2]\n",
        "\n",
        "plt.plot(range(0,8),train_score,label = 'train_loss')\n",
        "plt.plot(range(0,8),CV_score,label = 'cv_loss')\n",
        "plt.legend()\n",
        "plt.xlabel(\"alpha\")\n",
        "plt.xticks(range(0,8),alpha)\n",
        "plt.title(\"loss with L2 penalty \")\n",
        "plt.show()"
      ]
    },
    {
      "cell_type": "code",
      "execution_count": 36,
      "metadata": {
        "id": "fStyjhpT-38t",
        "colab": {
          "base_uri": "https://localhost:8080/",
          "height": 0
        },
        "outputId": "a7757fad-c8bd-4f42-c665-18887f75cadc"
      },
      "outputs": [
        {
          "output_type": "stream",
          "name": "stdout",
          "text": [
            "Best parameters: {'alpha': 0.01, 'penalty': 'l1'}\n",
            "Best score:  0.5444287766862654\n"
          ]
        }
      ],
      "source": [
        "print(\"Best parameters:\",lr_gsv.best_params_)\n",
        "print(\"Best score: \",lr_gsv.best_score_)\n"
      ]
    },
    {
      "cell_type": "code",
      "execution_count": 41,
      "metadata": {
        "scrolled": true,
        "id": "aMWJK9MB-38t",
        "colab": {
          "base_uri": "https://localhost:8080/",
          "height": 0
        },
        "outputId": "73581420-db28-4ddf-817b-b194399c8964"
      },
      "outputs": [
        {
          "output_type": "stream",
          "name": "stdout",
          "text": [
            "r2 score for train set with best model: 0.575\n",
            "r2 score for cv set wiht best model: 0.589\n"
          ]
        }
      ],
      "source": [
        "\n",
        "# train model on best parameter\n",
        "lr_reg  =SGDRegressor(random_state=42,alpha =  0.01, penalty = 'l1')\n",
        "lr_reg.fit(X_train_fin,y_train)\n",
        "\n",
        "pred_train = lr_reg.predict(X_train_fin)\n",
        "score_tr = r2_score(y_train,pred_train)\n",
        "\n",
        "print(\"r2 score for train set with best model:\",round(score_tr,3))\n",
        "\n",
        "pred = lr_reg.predict(X_cv_fin)\n",
        "score = r2_score(y_cv,pred)\n",
        "\n",
        "print(\"r2 score for cv set wiht best model:\",round(score,3))"
      ]
    },
    {
      "cell_type": "code",
      "execution_count": null,
      "metadata": {
        "id": "ILtDaDiE-38t"
      },
      "outputs": [],
      "source": []
    },
    {
      "cell_type": "markdown",
      "metadata": {
        "id": "CZ63vPZT-38u"
      },
      "source": [
        "##### observations:\n",
        "compare to the reference model,SGD regressor has given good results"
      ]
    },
    {
      "cell_type": "markdown",
      "metadata": {
        "id": "Iyy6FzAQ-38u"
      },
      "source": [
        "# SVM(Regression)"
      ]
    },
    {
      "cell_type": "code",
      "execution_count": 42,
      "metadata": {
        "id": "QF34FkqO-38u",
        "colab": {
          "base_uri": "https://localhost:8080/",
          "height": 0
        },
        "outputId": "61cfa81f-16a8-42a8-b2ef-79bac5cfc06f"
      },
      "outputs": [
        {
          "output_type": "stream",
          "name": "stdout",
          "text": [
            "Best parameters: {'kernel': 'linear', 'gamma': 0.1, 'C': 1}\n",
            "Best score:  0.5273446029327321\n",
            "CPU times: user 6min 34s, sys: 545 ms, total: 6min 35s\n",
            "Wall time: 6min 44s\n"
          ]
        }
      ],
      "source": [
        "%%time\n",
        "from sklearn.svm import SVR\n",
        "from sklearn.model_selection import GridSearchCV\n",
        "from sklearn.metrics import r2_score\n",
        "alpha = [10**i for i in range(-4,4)]\n",
        "para = {'kernel':['linear','rbf'],'C':alpha,\n",
        "        'gamma': [1, 0.1, 0.01]}  \n",
        "\n",
        "svm_reg = SVR()\n",
        "svm_gsv = RandomizedSearchCV(svm_reg,para,scoring = 'r2',cv=5)\n",
        "svm_gsv.fit(X_train_fin,y_train)\n",
        "\n",
        "print(\"Best parameters:\",svm_gsv.best_params_)\n",
        "print(\"Best score: \",svm_gsv.best_score_)\n",
        "\n"
      ]
    },
    {
      "cell_type": "code",
      "execution_count": 67,
      "metadata": {
        "id": "PALCTXca-38v",
        "colab": {
          "base_uri": "https://localhost:8080/",
          "height": 0
        },
        "outputId": "11b76c84-07ff-4cd9-c5bc-25b62bd3bdd5"
      },
      "outputs": [
        {
          "output_type": "stream",
          "name": "stdout",
          "text": [
            "r2 score for train set with best model: 0.575\n",
            "r2 score for cv set wiht best model: 0.589\n"
          ]
        }
      ],
      "source": [
        "# train the svr with the best parameters\n",
        "svm_reg = SVR(kernel= 'linear', gamma=0.1, C = 1)\n",
        "svm_reg.fit(X_train_fin,y_train)\n",
        "\n",
        "pred_train = lr_reg.predict(X_train_fin)\n",
        "score_tr = r2_score(y_train,pred_train)\n",
        "\n",
        "print(\"r2 score for train set with best model:\",round(score_tr,3))\n",
        "\n",
        "pred = lr_reg.predict(X_cv_fin)\n",
        "score = r2_score(y_cv,pred)\n",
        "\n",
        "print(\"r2 score for cv set wiht best model:\",round(score,3))\n"
      ]
    },
    {
      "cell_type": "markdown",
      "metadata": {
        "id": "vVVbPQox-38v"
      },
      "source": [
        "# Decision tree"
      ]
    },
    {
      "cell_type": "code",
      "execution_count": 68,
      "metadata": {
        "id": "LpkR2vbd-38v",
        "colab": {
          "base_uri": "https://localhost:8080/",
          "height": 0
        },
        "outputId": "91e0fae8-6f79-4079-aa73-a000327fc560"
      },
      "outputs": [
        {
          "output_type": "stream",
          "name": "stdout",
          "text": [
            "{'min_samples_split': 3, 'min_samples_leaf': 8, 'max_features': 'auto', 'max_depth': 5}\n"
          ]
        }
      ],
      "source": [
        "from sklearn.tree import DecisionTreeRegressor\n",
        "para = {'max_features':['auto', 'sqrt', 'log2'],\n",
        "        'max_depth':[ 5, 10,12,15,20,25,30],\n",
        "        'min_samples_split': [2, 3, 5],\n",
        "        'min_samples_leaf': [1,5,8,10,20,30] }\n",
        "\n",
        "\n",
        "\n",
        "df_reg = DecisionTreeRegressor(random_state= 42)\n",
        "df_rsv = RandomizedSearchCV(df_reg,para,scoring='neg_mean_squared_error',cv =5,n_iter=20)\n",
        "df_rsv.fit(X_train_fin,y_train)\n",
        "\n",
        "print(df_rsv.best_params_)\n"
      ]
    },
    {
      "cell_type": "code",
      "execution_count": 70,
      "metadata": {
        "id": "QSH5CY24-38w",
        "colab": {
          "base_uri": "https://localhost:8080/",
          "height": 0
        },
        "outputId": "05477e15-e098-4d59-8096-e1ed94f49a30"
      },
      "outputs": [
        {
          "output_type": "stream",
          "name": "stdout",
          "text": [
            "R2 score for best model for train data 0.573\n",
            "R2 score for best model for cv data 0.592\n"
          ]
        }
      ],
      "source": [
        "# train the model with best parameter\n",
        "\n",
        "dt_best  = DecisionTreeRegressor(min_samples_split= 3, min_samples_leaf= 8 ,max_features= 'auto', max_depth= 5,random_state= 42)\n",
        "dt_best.fit(X_train_fin,y_train)\n",
        "\n",
        "pred_train = dt_best.predict(X_train_fin)\n",
        "print(\"R2 score for best model for train data\",r2_score(y_train,pred_train).round(3))\n",
        "\n",
        "pred_cv = dt_best.predict(X_cv_fin)\n",
        "print(\"R2 score for best model for cv data\",r2_score(y_cv,pred_cv).round(3))\n",
        "\n",
        "\n"
      ]
    },
    {
      "cell_type": "code",
      "source": [],
      "metadata": {
        "id": "8W5rN8imp697"
      },
      "execution_count": null,
      "outputs": []
    },
    {
      "cell_type": "code",
      "execution_count": 49,
      "metadata": {
        "id": "32LKvMGH-38w",
        "colab": {
          "base_uri": "https://localhost:8080/",
          "height": 297
        },
        "outputId": "6df4ece9-69f6-4b71-cf90-feecd909d418"
      },
      "outputs": [
        {
          "output_type": "display_data",
          "data": {
            "text/plain": [
              "<Figure size 432x288 with 1 Axes>"
            ],
            "image/png": "[encoded data removed]"
          },
          "metadata": {
            "needs_background": "light"
          }
        }
      ],
      "source": [
        "import seaborn as sns\n",
        "importace= dt_best.feature_importances_\n",
        "feature_names= dt_best.feature_names_in_\n",
        "forest_importances = pd.Series(importace, index=feature_names)\n",
        "a = forest_importances.sort_values(ascending=False)[0:10]\n",
        "\n",
        "\n",
        "#plt.figure(figsize =(8,10))\n",
        "sns.barplot(x = a.index,y = a.values)\n",
        "plt.title(\"Feature importances of Decision Tree\")\n",
        "plt.tight_layout()"
      ]
    },
    {
      "cell_type": "code",
      "execution_count": null,
      "metadata": {
        "id": "TCaH7b7W-38w"
      },
      "outputs": [],
      "source": []
    },
    {
      "cell_type": "markdown",
      "metadata": {
        "id": "BncVrKbQ-38x"
      },
      "source": [
        "# Random forest regressor"
      ]
    },
    {
      "cell_type": "code",
      "execution_count": 55,
      "metadata": {
        "id": "vVJju6hi-38x",
        "colab": {
          "base_uri": "https://localhost:8080/",
          "height": 0
        },
        "outputId": "badfc95d-0306-417d-f200-a89c57895bdc"
      },
      "outputs": [
        {
          "output_type": "stream",
          "name": "stdout",
          "text": [
            "{'n_estimators': 200, 'min_samples_split': 5, 'min_samples_leaf': 5, 'max_features': 'auto', 'max_depth': 5}\n"
          ]
        }
      ],
      "source": [
        "from sklearn.ensemble import RandomForestRegressor\n",
        "from sklearn.model_selection import RandomizedSearchCV\n",
        "para = { 'n_estimators' :[5,10,15,20,50,100,200,500,1000],\n",
        "        'max_features':['auto', 'sqrt', 'log2'],\n",
        "        'max_depth':[ 5, 10,12,15,20,25,30],\n",
        "        'min_samples_split': [2, 3, 5],\n",
        "        'min_samples_leaf': [1,5,8,10,20,30] }\n",
        "\n",
        "\n",
        "\n",
        "rf_reg = RandomForestRegressor(random_state= 42)\n",
        "rf_rsv = RandomizedSearchCV(rf_reg,para,scoring='neg_mean_squared_error',cv =5,n_iter=30)\n",
        "rf_rsv.fit(X_train_fin,y_train)\n",
        "\n",
        "print(rf_rsv.best_params_)"
      ]
    },
    {
      "cell_type": "code",
      "execution_count": 56,
      "metadata": {
        "id": "SdEQVmfp-38x",
        "colab": {
          "base_uri": "https://localhost:8080/",
          "height": 0
        },
        "outputId": "ea7e8964-80aa-4d80-9ab6-61270499381a"
      },
      "outputs": [
        {
          "output_type": "stream",
          "name": "stdout",
          "text": [
            "R2 score for best model for train data 0.588\n",
            "R2 score for best model for cv data 0.566\n"
          ]
        }
      ],
      "source": [
        "# train the random forest with best parameters\n",
        "\n",
        "rf_best = RandomForestRegressor(n_estimators= 200, min_samples_split= 5, min_samples_leaf=5, max_features='auto', max_depth= 5,random_state= 42)\n",
        "rf_best.fit(X_train_fin,y_train)\n",
        "\n",
        "\n",
        "pred_train = dt_best.predict(X_train_fin)\n",
        "print(\"R2 score for best model for train data\",r2_score(y_train,pred_train).round(3))\n",
        "\n",
        "pred_cv = dt_best.predict(X_cv_fin)\n",
        "print(\"R2 score for best model for cv data\",r2_score(y_cv,pred_cv).round(3))"
      ]
    },
    {
      "cell_type": "markdown",
      "metadata": {
        "id": "h339Dc6o-38y"
      },
      "source": [
        "# XGboost model"
      ]
    },
    {
      "cell_type": "code",
      "execution_count": 57,
      "metadata": {
        "id": "1VP4RnvI-38y",
        "colab": {
          "base_uri": "https://localhost:8080/",
          "height": 0
        },
        "outputId": "3c61e5d7-2f83-40e3-b45b-1a40290abe01"
      },
      "outputs": [
        {
          "output_type": "stream",
          "name": "stdout",
          "text": [
            "RandomizedSearchCV took 103.11 seconds for 10 candidates parameter settings.\n",
            "CPU times: user 3min 20s, sys: 627 ms, total: 3min 21s\n",
            "Wall time: 1min 43s\n"
          ]
        }
      ],
      "source": [
        "%%time \n",
        "from xgboost import XGBRegressor\n",
        "\n",
        "\n",
        "# A parameter grid for XGBoost\n",
        "params = {\n",
        "    'n_estimators':[10,20,30,50,100,200,500], \n",
        "    'gamma':[i/10.0 for i in range(3,6)],  \n",
        "    'subsample':[i/10.0 for i in range(6,11)],\n",
        "    'colsample_bytree':[i/10.0 for i in range(6,11)], \n",
        "    'max_depth': [2,3,4,6,7],\n",
        "    'objective': ['reg:squarederror', 'reg:tweedie'],\n",
        "    'booster': ['gbtree'],\n",
        "    'eval_metric': ['rmse'],\n",
        "    'eta': [i/10.0 for i in range(3,6)],\n",
        "}\n",
        "\n",
        "reg = XGBRegressor(nthread=-1)\n",
        "\n",
        "# run randomized search\n",
        "n_iter_search = 10\n",
        "random_search = RandomizedSearchCV(reg, param_distributions=params,\n",
        "                                   n_iter=n_iter_search, cv=5, scoring='r2')\n",
        "\n",
        "start = time.time()\n",
        "random_search.fit(X_train_fin, y_train)\n",
        "print(\"RandomizedSearchCV took %.2f seconds for %d candidates\"\n",
        "      \" parameter settings.\" % ((time.time() - start), n_iter_search))"
      ]
    },
    {
      "cell_type": "code",
      "execution_count": 59,
      "metadata": {
        "id": "lnuLKdJS-38z",
        "colab": {
          "base_uri": "https://localhost:8080/",
          "height": 0
        },
        "outputId": "65c1abdb-cd17-4d06-e403-11da9e6792ed"
      },
      "outputs": [
        {
          "output_type": "execute_result",
          "data": {
            "text/plain": [
              "XGBRegressor(colsample_bytree=0.9, eta=0.3, eval_metric='rmse', gamma=0.4,\n",
              "             max_depth=2, n_estimators=200, nthread=-1, objective='reg:tweedie',\n",
              "             subsample=0.8)"
            ]
          },
          "metadata": {},
          "execution_count": 59
        }
      ],
      "source": [
        "best_regressor = random_search.best_estimator_\n",
        "best_regressor\n"
      ]
    },
    {
      "cell_type": "code",
      "execution_count": 62,
      "metadata": {
        "id": "-k8V-Wmf-38z",
        "colab": {
          "base_uri": "https://localhost:8080/",
          "height": 0
        },
        "outputId": "fc10e32c-5383-47cd-c68d-df3fd2383719"
      },
      "outputs": [
        {
          "output_type": "stream",
          "name": "stdout",
          "text": [
            "R2 score after train with best parameters for trainset: 0.582\n",
            "R2 score after train with best parameters for cv set: 0.595\n"
          ]
        }
      ],
      "source": [
        "# Get predictions\n",
        "y_pred_train = best_regressor.predict(X_train_fin)\n",
        "r2score = r2_score(y_train, y_pred_train).round(3)\n",
        "print(\"R2 score after train with best parameters for trainset:\" ,r2score )\n",
        "\n",
        "y_pred_cv = best_regressor.predict(X_cv_fin)\n",
        "r2score = r2_score(y_cv, y_pred_cv).round(3)\n",
        "print(\"R2 score after train with best parameters for cv set:\" ,r2score )\n",
        "\n",
        "\n"
      ]
    },
    {
      "cell_type": "code",
      "source": [
        "\n",
        "from prettytable import PrettyTable\n",
        "pt = PrettyTable(hrules = True)\n",
        "\n",
        "pt.field_names = [\"SL NO\", \"Model\", \"Hyperparamter\", \"Train R2 score\",\"Cv R2 score\"]\n",
        "pt.add_rows([\n",
        "[\"1\", \"Linear Regression(Base model)\",\"Nil\",0.332,-0.001 ],\n",
        "[\"2\", \"SGD REgression\",\"alpha =  0.01, penalty = 'l1' \",0.575,0.589],\n",
        "[\"3\", \"SVM(Regression)\",\"'kernel': 'linear', 'gamma': 0.1, 'C': 1\",0.575,0.589 ],\n",
        "[\"4\", \"Decision Tree\",\"'min_samples_split': 3, 'min_samples_leaf': 8, \\n 'max_features': 'auto', 'max_depth': 5\",0.573,0.592 ],\n",
        "[\"5\", \"Random Forest\",\"n_estimators= 200, min_samples_split= 5,\\n min_samples_leaf=5, max_features='auto', max_depth= 5\",0.588,0.566 ],\n",
        "[\"6\", \"Xg boost\",\"colsample_bytree=0.9, eta=0.3, eval_metric='rmse',\\n  gamma=0.4,max_depth=2, n_estimators=200, nthread=-1, objective='reg:tweedie',subsample=0.8\",0.582,0.595 ]])\n",
        " \n",
        "print(pt)"
      ],
      "metadata": {
        "colab": {
          "base_uri": "https://localhost:8080/",
          "height": 0
        },
        "id": "Q-EX1vbtmWm3",
        "outputId": "796de39e-1611-494e-b3ed-a5d7e0669684"
      },
      "execution_count": 78,
      "outputs": [
        {
          "output_type": "stream",
          "name": "stdout",
          "text": [
            "+-------+-------------------------------+----------------------------------------------------------------------------------------------+----------------+-------------+\n",
            "| SL NO |             Model             |                                        Hyperparamter                                         | Train R2 score | Cv R2 score |\n",
            "+-------+-------------------------------+----------------------------------------------------------------------------------------------+----------------+-------------+\n",
            "|   1   | Linear Regression(Base model) |                                             Nil                                              |     0.332      |    -0.001   |\n",
            "+-------+-------------------------------+----------------------------------------------------------------------------------------------+----------------+-------------+\n",
            "|   2   |         SGD REgression        |                                alpha =  0.01, penalty = 'l1'                                 |     0.575      |    0.589    |\n",
            "+-------+-------------------------------+----------------------------------------------------------------------------------------------+----------------+-------------+\n",
            "|   3   |        SVM(Regression)        |                           'kernel': 'linear', 'gamma': 0.1, 'C': 1                           |     0.575      |    0.589    |\n",
            "+-------+-------------------------------+----------------------------------------------------------------------------------------------+----------------+-------------+\n",
            "|   4   |         Decision Tree         |                       'min_samples_split': 3, 'min_samples_leaf': 8,                         |     0.573      |    0.592    |\n",
            "|       |                               |                            'max_features': 'auto', 'max_depth': 5                            |                |             |\n",
            "+-------+-------------------------------+----------------------------------------------------------------------------------------------+----------------+-------------+\n",
            "|   5   |         Random Forest         |                           n_estimators= 200, min_samples_split= 5,                           |     0.588      |    0.566    |\n",
            "|       |                               |                     min_samples_leaf=5, max_features='auto', max_depth= 5                    |                |             |\n",
            "+-------+-------------------------------+----------------------------------------------------------------------------------------------+----------------+-------------+\n",
            "|   6   |            Xg boost           |                      colsample_bytree=0.9, eta=0.3, eval_metric='rmse',                      |     0.582      |    0.595    |\n",
            "|       |                               |   gamma=0.4,max_depth=2, n_estimators=200, nthread=-1, objective='reg:tweedie',subsample=0.8 |                |             |\n",
            "+-------+-------------------------------+----------------------------------------------------------------------------------------------+----------------+-------------+\n"
          ]
        }
      ]
    },
    {
      "cell_type": "markdown",
      "source": [
        "\n",
        "\n",
        "#### From the above table : XG boost is performing well in both the train and CV data\n"
      ],
      "metadata": {
        "id": "yIKFQn6krak1"
      }
    },
    {
      "cell_type": "markdown",
      "metadata": {
        "id": "FmYdcEdV-38z"
      },
      "source": [
        "# test of models on test data"
      ]
    },
    {
      "cell_type": "code",
      "execution_count": null,
      "metadata": {
        "id": "Djvj9iDG-38z"
      },
      "outputs": [],
      "source": []
    },
    {
      "cell_type": "code",
      "execution_count": 80,
      "metadata": {
        "id": "f9DjOoor-38z"
      },
      "outputs": [],
      "source": [
        "def preprocessing(test_df):\n",
        "    test_df.drop(single_val_features,axis =1,inplace=True)\n",
        "    test_df.drop(['X4','ID'],axis=1,inplace= True)\n",
        "    test_df.drop(single_val_feat_from_bin,axis =1,inplace= True)\n",
        "    x_test_cat_encd = encode.transform(test_df[cat_list])\n",
        "    \n",
        "    x_test_cat_encd  =pd.DataFrame(x_test_cat_encd,columns=encode.get_feature_names()) \n",
        "    \n",
        "    x_test_top_50_df  = x_test_cat_encd.iloc[:,kbest.get_support(indices= True)]\n",
        "\n",
        "    test_df.drop(cat_list,axis=1,inplace = True)\n",
        "    \n",
        "    X_test_fin = pd.concat([test_df,x_test_top_50_df],axis=1)\n",
        "    X_test_fin.head()\n",
        "    \n",
        "    return X_test_fin\n",
        "    "
      ]
    },
    {
      "cell_type": "code",
      "execution_count": 81,
      "metadata": {
        "id": "UtUo8LoJ-38z",
        "colab": {
          "base_uri": "https://localhost:8080/",
          "height": 299
        },
        "outputId": "a1ce5543-c6f9-4c34-dfa3-fb03e3bd1807"
      },
      "outputs": [
        {
          "output_type": "execute_result",
          "data": {
            "text/plain": [
              "   ID  X0 X1  X2 X3 X4 X5 X6 X8  X10  ...  X375  X376  X377  X378  X379  X380  \\\n",
              "0   1  az  v   n  f  d  t  a  w    0  ...   0.0   0.0   0.0   1.0   0.0   0.0   \n",
              "1   2   t  b  ai  a  d  b  g  y    0  ...   0.0   0.0   1.0   0.0   0.0   0.0   \n",
              "2   3  az  v  as  f  d  a  j  j    0  ...   0.0   0.0   0.0   1.0   0.0   0.0   \n",
              "3   4  az  l   n  f  d  z  l  n    0  ...   0.0   0.0   0.0   1.0   0.0   0.0   \n",
              "4   5   w  s  as  c  d  y  i  m    0  ...   1.0   0.0   0.0   0.0   0.0   0.0   \n",
              "\n",
              "   X382  X383  X384  X385  \n",
              "0   0.0   0.0   0.0   0.0  \n",
              "1   0.0   0.0   0.0   0.0  \n",
              "2   0.0   0.0   0.0   0.0  \n",
              "3   0.0   0.0   0.0   0.0  \n",
              "4   0.0   0.0   0.0   0.0  \n",
              "\n",
              "[5 rows x 377 columns]"
            ],
            "text/html": [
              "\n",
              "  <div id=\"df-3c2a98ea-3a66-423b-b6c5-36b9b7d372e5\">\n",
              "    <div class=\"colab-df-container\">\n",
              "      <div>\n",
              "<style scoped>\n",
              "    .dataframe tbody tr th:only-of-type {\n",
              "        vertical-align: middle;\n",
              "    }\n",
              "\n",
              "    .dataframe tbody tr th {\n",
              "        vertical-align: top;\n",
              "    }\n",
              "\n",
              "    .dataframe thead th {\n",
              "        text-align: right;\n",
              "    }\n",
              "</style>\n",
              "<table border=\"1\" class=\"dataframe\">\n",
              "  <thead>\n",
              "    <tr style=\"text-align: right;\">\n",
              "      <th></th>\n",
              "      <th>ID</th>\n",
              "      <th>X0</th>\n",
              "      <th>X1</th>\n",
              "      <th>X2</th>\n",
              "      <th>X3</th>\n",
              "      <th>X4</th>\n",
              "      <th>X5</th>\n",
              "      <th>X6</th>\n",
              "      <th>X8</th>\n",
              "      <th>X10</th>\n",
              "      <th>...</th>\n",
              "      <th>X375</th>\n",
              "      <th>X376</th>\n",
              "      <th>X377</th>\n",
              "      <th>X378</th>\n",
              "      <th>X379</th>\n",
              "      <th>X380</th>\n",
              "      <th>X382</th>\n",
              "      <th>X383</th>\n",
              "      <th>X384</th>\n",
              "      <th>X385</th>\n",
              "    </tr>\n",
              "  </thead>\n",
              "  <tbody>\n",
              "    <tr>\n",
              "      <th>0</th>\n",
              "      <td>1</td>\n",
              "      <td>az</td>\n",
              "      <td>v</td>\n",
              "      <td>n</td>\n",
              "      <td>f</td>\n",
              "      <td>d</td>\n",
              "      <td>t</td>\n",
              "      <td>a</td>\n",
              "      <td>w</td>\n",
              "      <td>0</td>\n",
              "      <td>...</td>\n",
              "      <td>0.0</td>\n",
              "      <td>0.0</td>\n",
              "      <td>0.0</td>\n",
              "      <td>1.0</td>\n",
              "      <td>0.0</td>\n",
              "      <td>0.0</td>\n",
              "      <td>0.0</td>\n",
              "      <td>0.0</td>\n",
              "      <td>0.0</td>\n",
              "      <td>0.0</td>\n",
              "    </tr>\n",
              "    <tr>\n",
              "      <th>1</th>\n",
              "      <td>2</td>\n",
              "      <td>t</td>\n",
              "      <td>b</td>\n",
              "      <td>ai</td>\n",
              "      <td>a</td>\n",
              "      <td>d</td>\n",
              "      <td>b</td>\n",
              "      <td>g</td>\n",
              "      <td>y</td>\n",
              "      <td>0</td>\n",
              "      <td>...</td>\n",
              "      <td>0.0</td>\n",
              "      <td>0.0</td>\n",
              "      <td>1.0</td>\n",
              "      <td>0.0</td>\n",
              "      <td>0.0</td>\n",
              "      <td>0.0</td>\n",
              "      <td>0.0</td>\n",
              "      <td>0.0</td>\n",
              "      <td>0.0</td>\n",
              "      <td>0.0</td>\n",
              "    </tr>\n",
              "    <tr>\n",
              "      <th>2</th>\n",
              "      <td>3</td>\n",
              "      <td>az</td>\n",
              "      <td>v</td>\n",
              "      <td>as</td>\n",
              "      <td>f</td>\n",
              "      <td>d</td>\n",
              "      <td>a</td>\n",
              "      <td>j</td>\n",
              "      <td>j</td>\n",
              "      <td>0</td>\n",
              "      <td>...</td>\n",
              "      <td>0.0</td>\n",
              "      <td>0.0</td>\n",
              "      <td>0.0</td>\n",
              "      <td>1.0</td>\n",
              "      <td>0.0</td>\n",
              "      <td>0.0</td>\n",
              "      <td>0.0</td>\n",
              "      <td>0.0</td>\n",
              "      <td>0.0</td>\n",
              "      <td>0.0</td>\n",
              "    </tr>\n",
              "    <tr>\n",
              "      <th>3</th>\n",
              "      <td>4</td>\n",
              "      <td>az</td>\n",
              "      <td>l</td>\n",
              "      <td>n</td>\n",
              "      <td>f</td>\n",
              "      <td>d</td>\n",
              "      <td>z</td>\n",
              "      <td>l</td>\n",
              "      <td>n</td>\n",
              "      <td>0</td>\n",
              "      <td>...</td>\n",
              "      <td>0.0</td>\n",
              "      <td>0.0</td>\n",
              "      <td>0.0</td>\n",
              "      <td>1.0</td>\n",
              "      <td>0.0</td>\n",
              "      <td>0.0</td>\n",
              "      <td>0.0</td>\n",
              "      <td>0.0</td>\n",
              "      <td>0.0</td>\n",
              "      <td>0.0</td>\n",
              "    </tr>\n",
              "    <tr>\n",
              "      <th>4</th>\n",
              "      <td>5</td>\n",
              "      <td>w</td>\n",
              "      <td>s</td>\n",
              "      <td>as</td>\n",
              "      <td>c</td>\n",
              "      <td>d</td>\n",
              "      <td>y</td>\n",
              "      <td>i</td>\n",
              "      <td>m</td>\n",
              "      <td>0</td>\n",
              "      <td>...</td>\n",
              "      <td>1.0</td>\n",
              "      <td>0.0</td>\n",
              "      <td>0.0</td>\n",
              "      <td>0.0</td>\n",
              "      <td>0.0</td>\n",
              "      <td>0.0</td>\n",
              "      <td>0.0</td>\n",
              "      <td>0.0</td>\n",
              "      <td>0.0</td>\n",
              "      <td>0.0</td>\n",
              "    </tr>\n",
              "  </tbody>\n",
              "</table>\n",
              "<p>5 rows × 377 columns</p>\n",
              "</div>\n",
              "      <button class=\"colab-df-convert\" onclick=\"convertToInteractive('df-3c2a98ea-3a66-423b-b6c5-36b9b7d372e5')\"\n",
              "              title=\"Convert this dataframe to an interactive table.\"\n",
              "              style=\"display:none;\">\n",
              "        \n",
              "  <svg xmlns=\"http://www.w3.org/2000/svg\" height=\"24px\"viewBox=\"0 0 24 24\"\n",
              "       width=\"24px\">\n",
              "    <path d=\"M0 0h24v24H0V0z\" fill=\"none\"/>\n",
              "    <path d=\"M18.56 5.44l.94 2.06.94-2.06 2.06-.94-2.06-.94-.94-2.06-.94 2.06-2.06.94zm-11 1L8.5 8.5l.94-2.06 2.06-.94-2.06-.94L8.5 2.5l-.94 2.06-2.06.94zm10 10l.94 2.06.94-2.06 2.06-.94-2.06-.94-.94-2.06-.94 2.06-2.06.94z\"/><path d=\"M17.41 7.96l-1.37-1.37c-.4-.4-.92-.59-1.43-.59-.52 0-1.04.2-1.43.59L10.3 9.45l-7.72 7.72c-.78.78-.78 2.05 0 2.83L4 21.41c.39.39.9.59 1.41.59.51 0 1.02-.2 1.41-.59l7.78-7.78 2.81-2.81c.8-.78.8-2.07 0-2.86zM5.41 20L4 18.59l7.72-7.72 1.47 1.35L5.41 20z\"/>\n",
              "  </svg>\n",
              "      </button>\n",
              "      \n",
              "  <style>\n",
              "    .colab-df-container {\n",
              "      display:flex;\n",
              "      flex-wrap:wrap;\n",
              "      gap: 12px;\n",
              "    }\n",
              "\n",
              "    .colab-df-convert {\n",
              "      background-color: #E8F0FE;\n",
              "      border: none;\n",
              "      border-radius: 50%;\n",
              "      cursor: pointer;\n",
              "      display: none;\n",
              "      fill: #1967D2;\n",
              "      height: 32px;\n",
              "      padding: 0 0 0 0;\n",
              "      width: 32px;\n",
              "    }\n",
              "\n",
              "    .colab-df-convert:hover {\n",
              "      background-color: #E2EBFA;\n",
              "      box-shadow: 0px 1px 2px rgba(60, 64, 67, 0.3), 0px 1px 3px 1px rgba(60, 64, 67, 0.15);\n",
              "      fill: #174EA6;\n",
              "    }\n",
              "\n",
              "    [theme=dark] .colab-df-convert {\n",
              "      background-color: #3B4455;\n",
              "      fill: #D2E3FC;\n",
              "    }\n",
              "\n",
              "    [theme=dark] .colab-df-convert:hover {\n",
              "      background-color: #434B5C;\n",
              "      box-shadow: 0px 1px 3px 1px rgba(0, 0, 0, 0.15);\n",
              "      filter: drop-shadow(0px 1px 2px rgba(0, 0, 0, 0.3));\n",
              "      fill: #FFFFFF;\n",
              "    }\n",
              "  </style>\n",
              "\n",
              "      <script>\n",
              "        const buttonEl =\n",
              "          document.querySelector('#df-3c2a98ea-3a66-423b-b6c5-36b9b7d372e5 button.colab-df-convert');\n",
              "        buttonEl.style.display =\n",
              "          google.colab.kernel.accessAllowed ? 'block' : 'none';\n",
              "\n",
              "        async function convertToInteractive(key) {\n",
              "          const element = document.querySelector('#df-3c2a98ea-3a66-423b-b6c5-36b9b7d372e5');\n",
              "          const dataTable =\n",
              "            await google.colab.kernel.invokeFunction('convertToInteractive',\n",
              "                                                     [key], {});\n",
              "          if (!dataTable) return;\n",
              "\n",
              "          const docLinkHtml = 'Like what you see? Visit the ' +\n",
              "            '<a target=\"_blank\" href=https://colab.research.google.com/notebooks/data_table.ipynb>data table notebook</a>'\n",
              "            + ' to learn more about interactive tables.';\n",
              "          element.innerHTML = '';\n",
              "          dataTable['output_type'] = 'display_data';\n",
              "          await google.colab.output.renderOutput(dataTable, element);\n",
              "          const docLink = document.createElement('div');\n",
              "          docLink.innerHTML = docLinkHtml;\n",
              "          element.appendChild(docLink);\n",
              "        }\n",
              "      </script>\n",
              "    </div>\n",
              "  </div>\n",
              "  "
            ]
          },
          "metadata": {},
          "execution_count": 81
        }
      ],
      "source": [
        "test_data  = pd.read_csv(r\"/content/test.csv\")\n",
        "test_data.head()"
      ]
    },
    {
      "cell_type": "code",
      "execution_count": 82,
      "metadata": {
        "id": "-yChhszS-380"
      },
      "outputs": [],
      "source": [
        "X_test = preprocessing(test_data)\n"
      ]
    },
    {
      "cell_type": "code",
      "execution_count": 83,
      "metadata": {
        "id": "Xh9CVjST-380"
      },
      "outputs": [],
      "source": [
        "y_pred_test = best_regressor.predict(X_test.iloc[0:3,:])"
      ]
    },
    {
      "cell_type": "code",
      "execution_count": 84,
      "metadata": {
        "id": "sVMnTht2-380",
        "colab": {
          "base_uri": "https://localhost:8080/",
          "height": 0
        },
        "outputId": "6d657f5b-9b42-4903-9016-f5aa9baf05d0"
      },
      "outputs": [
        {
          "output_type": "execute_result",
          "data": {
            "text/plain": [
              "array([78.43639 , 93.992035, 78.536575], dtype=float32)"
            ]
          },
          "metadata": {},
          "execution_count": 84
        }
      ],
      "source": [
        "y_pred_test"
      ]
    },
    {
      "cell_type": "code",
      "execution_count": null,
      "metadata": {
        "id": "xQC1UGko-381"
      },
      "outputs": [],
      "source": []
    }
  ],
  "metadata": {
    "kernelspec": {
      "display_name": "Python 3",
      "language": "python",
      "name": "python3"
    },
    "language_info": {
      "codemirror_mode": {
        "name": "ipython",
        "version": 3
      },
      "file_extension": ".py",
      "mimetype": "text/x-python",
      "name": "python",
      "nbconvert_exporter": "python",
      "pygments_lexer": "ipython3",
      "version": "3.8.5"
    },
    "colab": {
      "provenance": []
    }
  },
  "nbformat": 4,
  "nbformat_minor": 0
}